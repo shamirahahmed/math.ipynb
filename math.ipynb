{
 "cells": [
  {
   "cell_type": "code",
   "execution_count": 1,
   "metadata": {},
   "outputs": [],
   "source": [
    "import math"
   ]
  },
  {
   "cell_type": "code",
   "execution_count": 3,
   "metadata": {},
   "outputs": [],
   "source": [
    "import numpy as np"
   ]
  },
  {
   "cell_type": "code",
   "execution_count": 2,
   "metadata": {},
   "outputs": [],
   "source": [
    "# Importing Library \n",
    "import numpy as np \n",
    "  \n"
   ]
  },
  {
   "cell_type": "code",
   "execution_count": 6,
   "metadata": {},
   "outputs": [
    {
     "name": "stdout",
     "output_type": "stream",
     "text": [
      "Inverse array is \n",
      "[[ 1.56521739  0.86956522 -1.47826087]\n",
      " [ 0.86956522  3.26086957 -3.04347826]\n",
      " [-1.47826087 -3.04347826  4.17391304]]\n",
      "\n"
     ]
    }
   ],
   "source": [
    "# inverse of 3X3 matrix \n",
    "arr = np.array([[1, 0.2, 0.5],  \n",
    "                [0.2, 1, 0.8],  \n",
    "                [0.5, 0.8, 1]]) \n",
    "inverse_array = np.linalg.inv(arr) \n",
    "print(\"Inverse array is \") \n",
    "print(inverse_array) \n",
    "print() \n",
    "  "
   ]
  },
  {
   "cell_type": "code",
   "execution_count": 8,
   "metadata": {},
   "outputs": [
    {
     "name": "stdout",
     "output_type": "stream",
     "text": [
      "Numpy Matrix is:\n",
      "<built-in function array>\n"
     ]
    }
   ],
   "source": [
    "# Displaying the Matrix \n",
    "# creating a 3X3 Numpy matrix \n",
    "arr = np.array([[1, 0.2, 0.5],  \n",
    "                [0.2, 1, 0.8],  \n",
    "                [0.5, 0.8, 1]]) \n",
    "print(\"Numpy Matrix is:\") \n",
    "print(np.array) "
   ]
  },
  {
   "cell_type": "code",
   "execution_count": 9,
   "metadata": {},
   "outputs": [
    {
     "name": "stdout",
     "output_type": "stream",
     "text": [
      "\n",
      "Determinant of given 3X3 matrix:\n",
      "0\n"
     ]
    }
   ],
   "source": [
    "# calculating the determinant of matrix \n",
    "det = np.linalg.det(arr) \n",
    "  \n",
    "print(\"\\nDeterminant of given 3X3 matrix:\") \n",
    "print(int(det)) "
   ]
  },
  {
   "cell_type": "code",
   "execution_count": 10,
   "metadata": {},
   "outputs": [
    {
     "name": "stdout",
     "output_type": "stream",
     "text": [
      "Original matrix:\n",
      "[[1.  0.2 0.5]\n",
      " [0.2 1.  0.8]\n",
      " [0.5 0.8 1. ]]\n"
     ]
    }
   ],
   "source": [
    "\n",
    "arr = np.array([[1, 0.2, 0.5],  \n",
    "                [0.2, 1, 0.8],  \n",
    "                [0.5, 0.8, 1]]) \n",
    "print(\"Original matrix:\")\n",
    "print(arr)\n"
   ]
  },
  {
   "cell_type": "code",
   "execution_count": 12,
   "metadata": {},
   "outputs": [
    {
     "name": "stdout",
     "output_type": "stream",
     "text": [
      "Decomposition of the said matrix:\n",
      "QRResult(Q=array([[-0.88045091,  0.38615039, -0.27512557],\n",
      "       [-0.17609018, -0.80507368, -0.566435  ],\n",
      "       [-0.44022545, -0.4502713 ,  0.77682515]]), R=array([[-1.13578167, -0.70436073, -1.02132305],\n",
      "       [ 0.        , -1.08806065, -0.90125505],\n",
      "       [ 0.        ,  0.        ,  0.18611436]]))\n"
     ]
    }
   ],
   "source": [
    "\n",
    "result = np.linalg.qr(arr)\n",
    "print(\"Decomposition of the said matrix:\")\n",
    "print(result) \n"
   ]
  },
  {
   "cell_type": "code",
   "execution_count": 14,
   "metadata": {},
   "outputs": [
    {
     "name": "stdout",
     "output_type": "stream",
     "text": [
      "[1.  0.2 0.5 0.2 1.  0.8 0.5 0.8 1. ]\n"
     ]
    }
   ],
   "source": [
    "#transforming a matrix\n",
    "arr = np.array([[1, 0.2, 0.5],  \n",
    "                [0.2, 1, 0.8],  \n",
    "                [0.5, 0.8, 1]]) \n",
    "print(arr.flatten())"
   ]
  },
  {
   "cell_type": "code",
   "execution_count": 15,
   "metadata": {},
   "outputs": [],
   "source": [
    "#question 5\n",
    "m_list = [[4, 3], [-5, 9]]\n",
    "A = np.array(m_list)"
   ]
  },
  {
   "cell_type": "code",
   "execution_count": 16,
   "metadata": {},
   "outputs": [
    {
     "name": "stdout",
     "output_type": "stream",
     "text": [
      "[[ 0.17647059 -0.05882353]\n",
      " [ 0.09803922  0.07843137]]\n"
     ]
    }
   ],
   "source": [
    "inv_A = np.linalg.inv(A)\n",
    "\n",
    "print(inv_A)"
   ]
  },
  {
   "cell_type": "code",
   "execution_count": 17,
   "metadata": {},
   "outputs": [
    {
     "name": "stdout",
     "output_type": "stream",
     "text": [
      "[2. 4.]\n"
     ]
    }
   ],
   "source": [
    "B = np.array([20, 26])\n",
    "X = np.linalg.inv(A).dot(B)\n",
    "\n",
    "print(X)"
   ]
  },
  {
   "cell_type": "code",
   "execution_count": 18,
   "metadata": {},
   "outputs": [
    {
     "name": "stdout",
     "output_type": "stream",
     "text": [
      "[ 5.  3. -2.]\n"
     ]
    }
   ],
   "source": [
    "A = np.array([[4, 3, 2], [-2, 2, 3], [3, -5, 2]])\n",
    "B = np.array([25, -10, -4])\n",
    "X = np.linalg.inv(A).dot(B)\n",
    "\n",
    "print(X)"
   ]
  },
  {
   "cell_type": "code",
   "execution_count": 19,
   "metadata": {},
   "outputs": [
    {
     "name": "stdout",
     "output_type": "stream",
     "text": [
      "[ 5.  3. -2.]\n"
     ]
    }
   ],
   "source": [
    "A = np.array([[4, 3, 2], [-2, 2, 3], [3, -5, 2]])\n",
    "B = np.array([25, -10, -4])\n",
    "X2 = np.linalg.solve(A,B)\n",
    "\n",
    "print(X2)"
   ]
  },
  {
   "cell_type": "code",
   "execution_count": 20,
   "metadata": {},
   "outputs": [
    {
     "name": "stdout",
     "output_type": "stream",
     "text": [
      "[10. 15.]\n"
     ]
    }
   ],
   "source": [
    "A = np.array([[20, 10], [17, 22]])\n",
    "B = np.array([350, 500])\n",
    "X = np.linalg.solve(A,B)\n",
    "\n",
    "print(X)"
   ]
  },
  {
   "cell_type": "code",
   "execution_count": 21,
   "metadata": {},
   "outputs": [],
   "source": [
    "#import linalg package of the SciPy module for the LU decomp\n",
    "import scipy.linalg as linalg \n",
    "#import NumPy"
   ]
  },
  {
   "cell_type": "code",
   "execution_count": 22,
   "metadata": {},
   "outputs": [],
   "source": [
    "A = np.array([[2., 1., 1.],\n",
    " [1., 3., 2.],\n",
    " [1., 0., 0.]]) \n"
   ]
  },
  {
   "cell_type": "code",
   "execution_count": 23,
   "metadata": {},
   "outputs": [],
   "source": [
    "#define B\n",
    "B = np.array([4., 5., 6.]) "
   ]
  },
  {
   "cell_type": "code",
   "execution_count": 24,
   "metadata": {},
   "outputs": [],
   "source": [
    "#call the lu_factor function\n",
    "LU = linalg.lu_factor(A) "
   ]
  }
 ],
 "metadata": {
  "kernelspec": {
   "display_name": "Python 3",
   "language": "python",
   "name": "python3"
  },
  "language_info": {
   "codemirror_mode": {
    "name": "ipython",
    "version": 3
   },
   "file_extension": ".py",
   "mimetype": "text/x-python",
   "name": "python",
   "nbconvert_exporter": "python",
   "pygments_lexer": "ipython3",
   "version": "3.11.4"
  }
 },
 "nbformat": 4,
 "nbformat_minor": 2
}
